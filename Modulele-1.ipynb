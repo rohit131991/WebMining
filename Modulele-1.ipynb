{
  "nbformat": 4,
  "nbformat_minor": 0,
  "metadata": {
    "colab": {
      "name": "Untitled3.ipynb",
      "provenance": [],
      "collapsed_sections": [],
      "authorship_tag": "ABX9TyMo49CL919P0Pyq3G+ZldFJ",
      "include_colab_link": true
    },
    "kernelspec": {
      "name": "python3",
      "display_name": "Python 3"
    }
  },
  "cells": [
    {
      "cell_type": "markdown",
      "metadata": {
        "id": "view-in-github",
        "colab_type": "text"
      },
      "source": [
        "<a href=\"https://colab.research.google.com/github/rohit131991/WebMining/blob/main/Modulele-1.ipynb\" target=\"_parent\"><img src=\"https://colab.research.google.com/assets/colab-badge.svg\" alt=\"Open In Colab\"/></a>"
      ]
    },
    {
      "cell_type": "code",
      "metadata": {
        "id": "Mb7TTNhlSBN-"
      },
      "source": [
        "import requests\r\n",
        "import pandas_datareader as web\r\n",
        "import numpy as np\r\n",
        "import matplotlib.pyplot as plt"
      ],
      "execution_count": 39,
      "outputs": []
    },
    {
      "cell_type": "code",
      "metadata": {
        "colab": {
          "base_uri": "https://localhost:8080/",
          "height": 450
        },
        "id": "9tHow4D0STSD",
        "outputId": "2dd54ade-cc38-43a3-bb4c-def405be423c"
      },
      "source": [
        "df = web.DataReader('GOOG', data_source='yahoo', start='2016-01-01', end='2020-12-31')\r\n",
        "df"
      ],
      "execution_count": 42,
      "outputs": [
        {
          "output_type": "execute_result",
          "data": {
            "text/html": [
              "<div>\n",
              "<style scoped>\n",
              "    .dataframe tbody tr th:only-of-type {\n",
              "        vertical-align: middle;\n",
              "    }\n",
              "\n",
              "    .dataframe tbody tr th {\n",
              "        vertical-align: top;\n",
              "    }\n",
              "\n",
              "    .dataframe thead th {\n",
              "        text-align: right;\n",
              "    }\n",
              "</style>\n",
              "<table border=\"1\" class=\"dataframe\">\n",
              "  <thead>\n",
              "    <tr style=\"text-align: right;\">\n",
              "      <th></th>\n",
              "      <th>High</th>\n",
              "      <th>Low</th>\n",
              "      <th>Open</th>\n",
              "      <th>Close</th>\n",
              "      <th>Volume</th>\n",
              "      <th>Adj Close</th>\n",
              "    </tr>\n",
              "    <tr>\n",
              "      <th>Date</th>\n",
              "      <th></th>\n",
              "      <th></th>\n",
              "      <th></th>\n",
              "      <th></th>\n",
              "      <th></th>\n",
              "      <th></th>\n",
              "    </tr>\n",
              "  </thead>\n",
              "  <tbody>\n",
              "    <tr>\n",
              "      <th>2016-01-04</th>\n",
              "      <td>744.059998</td>\n",
              "      <td>731.257996</td>\n",
              "      <td>743.000000</td>\n",
              "      <td>741.840027</td>\n",
              "      <td>3272800</td>\n",
              "      <td>741.840027</td>\n",
              "    </tr>\n",
              "    <tr>\n",
              "      <th>2016-01-05</th>\n",
              "      <td>752.000000</td>\n",
              "      <td>738.640015</td>\n",
              "      <td>746.450012</td>\n",
              "      <td>742.580017</td>\n",
              "      <td>1950700</td>\n",
              "      <td>742.580017</td>\n",
              "    </tr>\n",
              "    <tr>\n",
              "      <th>2016-01-06</th>\n",
              "      <td>747.179993</td>\n",
              "      <td>728.919983</td>\n",
              "      <td>730.000000</td>\n",
              "      <td>743.619995</td>\n",
              "      <td>1947000</td>\n",
              "      <td>743.619995</td>\n",
              "    </tr>\n",
              "    <tr>\n",
              "      <th>2016-01-07</th>\n",
              "      <td>738.500000</td>\n",
              "      <td>719.059998</td>\n",
              "      <td>730.309998</td>\n",
              "      <td>726.390015</td>\n",
              "      <td>2963700</td>\n",
              "      <td>726.390015</td>\n",
              "    </tr>\n",
              "    <tr>\n",
              "      <th>2016-01-08</th>\n",
              "      <td>733.229980</td>\n",
              "      <td>713.000000</td>\n",
              "      <td>731.450012</td>\n",
              "      <td>714.469971</td>\n",
              "      <td>2450900</td>\n",
              "      <td>714.469971</td>\n",
              "    </tr>\n",
              "    <tr>\n",
              "      <th>...</th>\n",
              "      <td>...</td>\n",
              "      <td>...</td>\n",
              "      <td>...</td>\n",
              "      <td>...</td>\n",
              "      <td>...</td>\n",
              "      <td>...</td>\n",
              "    </tr>\n",
              "    <tr>\n",
              "      <th>2020-12-24</th>\n",
              "      <td>1746.000000</td>\n",
              "      <td>1729.109985</td>\n",
              "      <td>1735.000000</td>\n",
              "      <td>1738.849976</td>\n",
              "      <td>346800</td>\n",
              "      <td>1738.849976</td>\n",
              "    </tr>\n",
              "    <tr>\n",
              "      <th>2020-12-28</th>\n",
              "      <td>1790.728027</td>\n",
              "      <td>1746.334961</td>\n",
              "      <td>1751.635010</td>\n",
              "      <td>1776.089966</td>\n",
              "      <td>1393000</td>\n",
              "      <td>1776.089966</td>\n",
              "    </tr>\n",
              "    <tr>\n",
              "      <th>2020-12-29</th>\n",
              "      <td>1792.439941</td>\n",
              "      <td>1756.089966</td>\n",
              "      <td>1787.790039</td>\n",
              "      <td>1758.719971</td>\n",
              "      <td>1299400</td>\n",
              "      <td>1758.719971</td>\n",
              "    </tr>\n",
              "    <tr>\n",
              "      <th>2020-12-30</th>\n",
              "      <td>1765.094971</td>\n",
              "      <td>1725.599976</td>\n",
              "      <td>1762.010010</td>\n",
              "      <td>1739.520020</td>\n",
              "      <td>1306100</td>\n",
              "      <td>1739.520020</td>\n",
              "    </tr>\n",
              "    <tr>\n",
              "      <th>2020-12-31</th>\n",
              "      <td>1758.930054</td>\n",
              "      <td>1735.420044</td>\n",
              "      <td>1735.420044</td>\n",
              "      <td>1751.880005</td>\n",
              "      <td>1011900</td>\n",
              "      <td>1751.880005</td>\n",
              "    </tr>\n",
              "  </tbody>\n",
              "</table>\n",
              "<p>1259 rows × 6 columns</p>\n",
              "</div>"
            ],
            "text/plain": [
              "                   High          Low  ...   Volume    Adj Close\n",
              "Date                                  ...                      \n",
              "2016-01-04   744.059998   731.257996  ...  3272800   741.840027\n",
              "2016-01-05   752.000000   738.640015  ...  1950700   742.580017\n",
              "2016-01-06   747.179993   728.919983  ...  1947000   743.619995\n",
              "2016-01-07   738.500000   719.059998  ...  2963700   726.390015\n",
              "2016-01-08   733.229980   713.000000  ...  2450900   714.469971\n",
              "...                 ...          ...  ...      ...          ...\n",
              "2020-12-24  1746.000000  1729.109985  ...   346800  1738.849976\n",
              "2020-12-28  1790.728027  1746.334961  ...  1393000  1776.089966\n",
              "2020-12-29  1792.439941  1756.089966  ...  1299400  1758.719971\n",
              "2020-12-30  1765.094971  1725.599976  ...  1306100  1739.520020\n",
              "2020-12-31  1758.930054  1735.420044  ...  1011900  1751.880005\n",
              "\n",
              "[1259 rows x 6 columns]"
            ]
          },
          "metadata": {
            "tags": []
          },
          "execution_count": 42
        }
      ]
    },
    {
      "cell_type": "code",
      "metadata": {
        "colab": {
          "base_uri": "https://localhost:8080/"
        },
        "id": "YAdyYD_FUjuh",
        "outputId": "290dac73-eb9f-4b00-d5ce-659030db7fab"
      },
      "source": [
        "df.info()"
      ],
      "execution_count": null,
      "outputs": [
        {
          "output_type": "stream",
          "text": [
            "<class 'pandas.core.frame.DataFrame'>\n",
            "DatetimeIndex: 1259 entries, 2016-01-04 to 2020-12-31\n",
            "Data columns (total 6 columns):\n",
            " #   Column     Non-Null Count  Dtype  \n",
            "---  ------     --------------  -----  \n",
            " 0   High       1259 non-null   float64\n",
            " 1   Low        1259 non-null   float64\n",
            " 2   Open       1259 non-null   float64\n",
            " 3   Close      1259 non-null   float64\n",
            " 4   Volume     1259 non-null   int64  \n",
            " 5   Adj Close  1259 non-null   float64\n",
            "dtypes: float64(5), int64(1)\n",
            "memory usage: 68.9 KB\n"
          ],
          "name": "stdout"
        }
      ]
    },
    {
      "cell_type": "code",
      "metadata": {
        "colab": {
          "base_uri": "https://localhost:8080/"
        },
        "id": "AFPDWaDyWFg_",
        "outputId": "df41131b-65bc-4879-cafd-2151eff0d9af"
      },
      "source": [
        "df.shape"
      ],
      "execution_count": null,
      "outputs": [
        {
          "output_type": "execute_result",
          "data": {
            "text/plain": [
              "(1259, 6)"
            ]
          },
          "metadata": {
            "tags": []
          },
          "execution_count": 9
        }
      ]
    },
    {
      "cell_type": "code",
      "metadata": {
        "colab": {
          "base_uri": "https://localhost:8080/",
          "height": 390
        },
        "id": "uuN38PSDWoNx",
        "outputId": "a2f5bb45-8c38-4606-d022-a29f10fe7ee5"
      },
      "source": [
        "df.head(10)\r\n"
      ],
      "execution_count": 46,
      "outputs": [
        {
          "output_type": "execute_result",
          "data": {
            "text/html": [
              "<div>\n",
              "<style scoped>\n",
              "    .dataframe tbody tr th:only-of-type {\n",
              "        vertical-align: middle;\n",
              "    }\n",
              "\n",
              "    .dataframe tbody tr th {\n",
              "        vertical-align: top;\n",
              "    }\n",
              "\n",
              "    .dataframe thead th {\n",
              "        text-align: right;\n",
              "    }\n",
              "</style>\n",
              "<table border=\"1\" class=\"dataframe\">\n",
              "  <thead>\n",
              "    <tr style=\"text-align: right;\">\n",
              "      <th></th>\n",
              "      <th>High</th>\n",
              "      <th>Low</th>\n",
              "      <th>Open</th>\n",
              "      <th>Close</th>\n",
              "      <th>Volume</th>\n",
              "      <th>Adj Close</th>\n",
              "    </tr>\n",
              "    <tr>\n",
              "      <th>Date</th>\n",
              "      <th></th>\n",
              "      <th></th>\n",
              "      <th></th>\n",
              "      <th></th>\n",
              "      <th></th>\n",
              "      <th></th>\n",
              "    </tr>\n",
              "  </thead>\n",
              "  <tbody>\n",
              "    <tr>\n",
              "      <th>2016-01-04</th>\n",
              "      <td>744.059998</td>\n",
              "      <td>731.257996</td>\n",
              "      <td>743.000000</td>\n",
              "      <td>741.840027</td>\n",
              "      <td>3272800</td>\n",
              "      <td>741.840027</td>\n",
              "    </tr>\n",
              "    <tr>\n",
              "      <th>2016-01-05</th>\n",
              "      <td>752.000000</td>\n",
              "      <td>738.640015</td>\n",
              "      <td>746.450012</td>\n",
              "      <td>742.580017</td>\n",
              "      <td>1950700</td>\n",
              "      <td>742.580017</td>\n",
              "    </tr>\n",
              "    <tr>\n",
              "      <th>2016-01-06</th>\n",
              "      <td>747.179993</td>\n",
              "      <td>728.919983</td>\n",
              "      <td>730.000000</td>\n",
              "      <td>743.619995</td>\n",
              "      <td>1947000</td>\n",
              "      <td>743.619995</td>\n",
              "    </tr>\n",
              "    <tr>\n",
              "      <th>2016-01-07</th>\n",
              "      <td>738.500000</td>\n",
              "      <td>719.059998</td>\n",
              "      <td>730.309998</td>\n",
              "      <td>726.390015</td>\n",
              "      <td>2963700</td>\n",
              "      <td>726.390015</td>\n",
              "    </tr>\n",
              "    <tr>\n",
              "      <th>2016-01-08</th>\n",
              "      <td>733.229980</td>\n",
              "      <td>713.000000</td>\n",
              "      <td>731.450012</td>\n",
              "      <td>714.469971</td>\n",
              "      <td>2450900</td>\n",
              "      <td>714.469971</td>\n",
              "    </tr>\n",
              "    <tr>\n",
              "      <th>2016-01-11</th>\n",
              "      <td>718.854980</td>\n",
              "      <td>703.539978</td>\n",
              "      <td>716.609985</td>\n",
              "      <td>716.030029</td>\n",
              "      <td>2090600</td>\n",
              "      <td>716.030029</td>\n",
              "    </tr>\n",
              "    <tr>\n",
              "      <th>2016-01-12</th>\n",
              "      <td>728.750000</td>\n",
              "      <td>717.317017</td>\n",
              "      <td>721.679993</td>\n",
              "      <td>726.070007</td>\n",
              "      <td>2024500</td>\n",
              "      <td>726.070007</td>\n",
              "    </tr>\n",
              "    <tr>\n",
              "      <th>2016-01-13</th>\n",
              "      <td>734.739990</td>\n",
              "      <td>698.609985</td>\n",
              "      <td>730.849976</td>\n",
              "      <td>700.559998</td>\n",
              "      <td>2501700</td>\n",
              "      <td>700.559998</td>\n",
              "    </tr>\n",
              "    <tr>\n",
              "      <th>2016-01-14</th>\n",
              "      <td>721.924988</td>\n",
              "      <td>689.099976</td>\n",
              "      <td>705.380005</td>\n",
              "      <td>714.719971</td>\n",
              "      <td>2225800</td>\n",
              "      <td>714.719971</td>\n",
              "    </tr>\n",
              "    <tr>\n",
              "      <th>2016-01-15</th>\n",
              "      <td>706.739990</td>\n",
              "      <td>685.369995</td>\n",
              "      <td>692.289978</td>\n",
              "      <td>694.450012</td>\n",
              "      <td>3608100</td>\n",
              "      <td>694.450012</td>\n",
              "    </tr>\n",
              "  </tbody>\n",
              "</table>\n",
              "</div>"
            ],
            "text/plain": [
              "                  High         Low        Open       Close   Volume   Adj Close\n",
              "Date                                                                           \n",
              "2016-01-04  744.059998  731.257996  743.000000  741.840027  3272800  741.840027\n",
              "2016-01-05  752.000000  738.640015  746.450012  742.580017  1950700  742.580017\n",
              "2016-01-06  747.179993  728.919983  730.000000  743.619995  1947000  743.619995\n",
              "2016-01-07  738.500000  719.059998  730.309998  726.390015  2963700  726.390015\n",
              "2016-01-08  733.229980  713.000000  731.450012  714.469971  2450900  714.469971\n",
              "2016-01-11  718.854980  703.539978  716.609985  716.030029  2090600  716.030029\n",
              "2016-01-12  728.750000  717.317017  721.679993  726.070007  2024500  726.070007\n",
              "2016-01-13  734.739990  698.609985  730.849976  700.559998  2501700  700.559998\n",
              "2016-01-14  721.924988  689.099976  705.380005  714.719971  2225800  714.719971\n",
              "2016-01-15  706.739990  685.369995  692.289978  694.450012  3608100  694.450012"
            ]
          },
          "metadata": {
            "tags": []
          },
          "execution_count": 46
        }
      ]
    },
    {
      "cell_type": "markdown",
      "metadata": {
        "id": "8Q-c8xwHc3cM"
      },
      "source": [
        "#Time-Series Analysis "
      ]
    },
    {
      "cell_type": "code",
      "metadata": {
        "id": "DwopUANT1Mq2"
      },
      "source": [
        "close = df['Close']"
      ],
      "execution_count": 48,
      "outputs": []
    },
    {
      "cell_type": "code",
      "metadata": {
        "colab": {
          "base_uri": "https://localhost:8080/"
        },
        "id": "L4Ju_fPX1ZDk",
        "outputId": "8b69e030-1a4d-4f0a-a6fb-5636f2c3afdf"
      },
      "source": [
        "close.describe()"
      ],
      "execution_count": 49,
      "outputs": [
        {
          "output_type": "execute_result",
          "data": {
            "text/plain": [
              "count    1259.000000\n",
              "mean     1090.083688\n",
              "std       269.099996\n",
              "min       668.260010\n",
              "25%       836.994995\n",
              "50%      1082.760010\n",
              "75%      1230.540039\n",
              "max      1827.989990\n",
              "Name: Close, dtype: float64"
            ]
          },
          "metadata": {
            "tags": []
          },
          "execution_count": 49
        }
      ]
    },
    {
      "cell_type": "code",
      "metadata": {
        "colab": {
          "base_uri": "https://localhost:8080/",
          "height": 521
        },
        "id": "TblJbcRaX25X",
        "outputId": "23cd9571-8407-454d-f49b-2ab1eac1789a"
      },
      "source": [
        "plt.figure(figsize=(18,8))\r\n",
        "plt.title('Close Price History')\r\n",
        "plt.plot(df['Close'])\r\n",
        "plt.xlabel('Date', fontsize=18)\r\n",
        "plt.ylabel('Close Price USD ($)', fontsize=18)\r\n",
        "plt.show()\r\n"
      ],
      "execution_count": 50,
      "outputs": [
        {
          "output_type": "display_data",
          "data": {
            "image/png": "[encoded data removed]",
            "text/plain": [
              "<Figure size 1296x576 with 1 Axes>"
            ]
          },
          "metadata": {
            "tags": [],
            "needs_background": "light"
          }
        }
      ]
    },
    {
      "cell_type": "code",
      "metadata": {
        "id": "Xl5QZeuy1WlR"
      },
      "source": [
        ""
      ],
      "execution_count": null,
      "outputs": []
    },
    {
      "cell_type": "code",
      "metadata": {
        "id": "pJUHNwFrj5qq"
      },
      "source": [
        "import json\r\n",
        "import re\r\n",
        "import csv\r\n",
        "import requests\r\n",
        "from bs4 import BeautifulSoup"
      ],
      "execution_count": 7,
      "outputs": []
    },
    {
      "cell_type": "code",
      "metadata": {
        "id": "EnHyD7pDlH_g"
      },
      "source": [
        "url_financials = 'https://finance.yahoo.com/quote/GOOG/financials?p=GOOG'"
      ],
      "execution_count": 2,
      "outputs": []
    },
    {
      "cell_type": "code",
      "metadata": {
        "id": "8aay76dPlPuw"
      },
      "source": [
        "response = requests.get(url_financials)"
      ],
      "execution_count": 5,
      "outputs": []
    },
    {
      "cell_type": "code",
      "metadata": {
        "id": "b8t82FwzlYZE"
      },
      "source": [
        "soup = BeautifulSoup(response.text, 'html.parser')"
      ],
      "execution_count": 12,
      "outputs": []
    },
    {
      "cell_type": "code",
      "metadata": {
        "id": "r_woM8velmkP"
      },
      "source": [
        "pattern = re.compile(r'\\s--\\sData\\s--\\s')\r\n",
        "script_data = soup.find('script', text=pattern).contents[0]"
      ],
      "execution_count": 13,
      "outputs": []
    },
    {
      "cell_type": "code",
      "metadata": {
        "colab": {
          "base_uri": "https://localhost:8080/",
          "height": 69
        },
        "id": "ITJDG-GJmVJl",
        "outputId": "e13b183e-72a0-4b7f-d6ec-070d7e402f5c"
      },
      "source": [
        "script_data[:500]"
      ],
      "execution_count": 14,
      "outputs": [
        {
          "output_type": "execute_result",
          "data": {
            "application/vnd.google.colaboratory.intrinsic+json": {
              "type": "string"
            },
            "text/plain": [
              "'\\n(function (root) {\\n/* -- Data -- */\\nroot.App || (root.App = {});\\nroot.App.now = 1612400939974;\\nroot.App.main = {\"context\":{\"dispatcher\":{\"stores\":{\"PageStore\":{\"currentPageName\":\"quote\",\"currentEvent\":{\"eventName\":\"NEW_PAGE_SUCCESS\"},\"currentRenderTargetId\":\"default\",\"pagesConfigRaw\":{\"base\":{\"quote\":{\"layout\":{\"bundleName\":\"yahoodotcom-layout.TwoColumnLayout\",\"name\":\"TwoColumnLayout\",\"config\":{\"enableHeaderCollapse\":true,\"additionalBodyWrapperClasses\":\"Bgc($layoutBgColor)!\",\"contentWrapperClas'"
            ]
          },
          "metadata": {
            "tags": []
          },
          "execution_count": 14
        }
      ]
    },
    {
      "cell_type": "code",
      "metadata": {
        "colab": {
          "base_uri": "https://localhost:8080/",
          "height": 69
        },
        "id": "nvI5N_KnmYJx",
        "outputId": "79531cae-2510-4eac-fc1d-7d58b1f39b3c"
      },
      "source": [
        "script_data[-500:]"
      ],
      "execution_count": 15,
      "outputs": [
        {
          "output_type": "execute_result",
          "data": {
            "application/vnd.google.colaboratory.intrinsic+json": {
              "type": "string"
            },
            "text/plain": [
              "'put\":{\"strings\":1},\"tdv2-applet-sponsored-moments\":{\"strings\":1},\"tdv2-applet-stream\":{\"strings\":1},\"tdv2-applet-stream-hero\":{\"strings\":1},\"tdv2-applet-swisschamp\":{\"strings\":1},\"tdv2-applet-uh\":{\"strings\":1},\"tdv2-applet-userintent\":{\"strings\":1},\"tdv2-applet-video-lightbox\":{\"strings\":1},\"tdv2-applet-video-modal\":{\"strings\":1},\"tdv2-wafer-adfeedback\":{\"strings\":1},\"tdv2-wafer-header\":{\"strings\":1},\"yahoodotcom-layout\":{\"strings\":1}}},\"options\":{\"defaultBundle\":\"td-app-finance\"}}}};\\n}(this));\\n'"
            ]
          },
          "metadata": {
            "tags": []
          },
          "execution_count": 15
        }
      ]
    },
    {
      "cell_type": "code",
      "metadata": {
        "id": "v7WVhmtBmhe9"
      },
      "source": [
        "start = script_data.find(\"context\")-2"
      ],
      "execution_count": 16,
      "outputs": []
    },
    {
      "cell_type": "code",
      "metadata": {
        "id": "HewZ6qtnm0U6"
      },
      "source": [
        "json_data = json.loads(script_data[start:-12])"
      ],
      "execution_count": 17,
      "outputs": []
    },
    {
      "cell_type": "code",
      "metadata": {
        "colab": {
          "base_uri": "https://localhost:8080/"
        },
        "id": "SAqkCAFpm_9l",
        "outputId": "b2bb29f5-4ab0-4ef9-8eb4-39dc4562ffd6"
      },
      "source": [
        "json_data['context'].keys()"
      ],
      "execution_count": 18,
      "outputs": [
        {
          "output_type": "execute_result",
          "data": {
            "text/plain": [
              "dict_keys(['dispatcher', 'options', 'plugins'])"
            ]
          },
          "metadata": {
            "tags": []
          },
          "execution_count": 18
        }
      ]
    },
    {
      "cell_type": "code",
      "metadata": {
        "colab": {
          "base_uri": "https://localhost:8080/"
        },
        "id": "j_K7NH7enFTx",
        "outputId": "ea87a7d3-edc9-4797-c10e-d89a5db29019"
      },
      "source": [
        "json_data['context']['dispatcher']['stores']['QuoteSummaryStore'].keys()"
      ],
      "execution_count": 19,
      "outputs": [
        {
          "output_type": "execute_result",
          "data": {
            "text/plain": [
              "dict_keys(['financialsTemplate', 'cashflowStatementHistory', 'balanceSheetHistoryQuarterly', 'earnings', 'price', 'incomeStatementHistoryQuarterly', 'incomeStatementHistory', 'balanceSheetHistory', 'cashflowStatementHistoryQuarterly', 'quoteType', 'summaryDetail', 'symbol', 'pageViews'])"
            ]
          },
          "metadata": {
            "tags": []
          },
          "execution_count": 19
        }
      ]
    },
    {
      "cell_type": "code",
      "metadata": {
        "id": "9gg-wcwvnZ9r"
      },
      "source": [
        "annual_is = json_data['context']['dispatcher']['stores']['QuoteSummaryStore']['incomeStatementHistory']['incomeStatementHistory']"
      ],
      "execution_count": 29,
      "outputs": []
    },
    {
      "cell_type": "code",
      "metadata": {
        "colab": {
          "base_uri": "https://localhost:8080/"
        },
        "id": "fjBSrkr0pyoH",
        "outputId": "a24580e5-f1af-4bf7-b9ba-bac109bd5d73"
      },
      "source": [
        "print(annual_is[0])"
      ],
      "execution_count": 30,
      "outputs": [
        {
          "output_type": "stream",
          "text": [
            "{'researchDevelopment': {'raw': 26018000000, 'fmt': '26.02B', 'longFmt': '26,018,000,000'}, 'effectOfAccountingCharges': {}, 'incomeBeforeTax': {'raw': 39625000000, 'fmt': '39.62B', 'longFmt': '39,625,000,000'}, 'minorityInterest': {}, 'netIncome': {'raw': 34343000000, 'fmt': '34.34B', 'longFmt': '34,343,000,000'}, 'sellingGeneralAdministrative': {'raw': 27461000000, 'fmt': '27.46B', 'longFmt': '27,461,000,000'}, 'grossProfit': {'raw': 89961000000, 'fmt': '89.96B', 'longFmt': '89,961,000,000'}, 'ebit': {'raw': 36482000000, 'fmt': '36.48B', 'longFmt': '36,482,000,000'}, 'endDate': {'raw': 1577750400, 'fmt': '2019-12-31'}, 'operatingIncome': {'raw': 36482000000, 'fmt': '36.48B', 'longFmt': '36,482,000,000'}, 'otherOperatingExpenses': {}, 'interestExpense': {'raw': -100000000, 'fmt': '-100M', 'longFmt': '-100,000,000'}, 'extraordinaryItems': {}, 'nonRecurring': {}, 'otherItems': {}, 'incomeTaxExpense': {'raw': 5282000000, 'fmt': '5.28B', 'longFmt': '5,282,000,000'}, 'totalRevenue': {'raw': 161857000000, 'fmt': '161.86B', 'longFmt': '161,857,000,000'}, 'totalOperatingExpenses': {'raw': 125375000000, 'fmt': '125.38B', 'longFmt': '125,375,000,000'}, 'costOfRevenue': {'raw': 71896000000, 'fmt': '71.9B', 'longFmt': '71,896,000,000'}, 'totalOtherIncomeExpenseNet': {'raw': 3143000000, 'fmt': '3.14B', 'longFmt': '3,143,000,000'}, 'maxAge': 1, 'discontinuedOperations': {}, 'netIncomeFromContinuingOps': {'raw': 34343000000, 'fmt': '34.34B', 'longFmt': '34,343,000,000'}, 'netIncomeApplicableToCommonShares': {'raw': 34343000000, 'fmt': '34.34B', 'longFmt': '34,343,000,000'}}\n"
          ],
          "name": "stdout"
        }
      ]
    },
    {
      "cell_type": "code",
      "metadata": {
        "colab": {
          "base_uri": "https://localhost:8080/"
        },
        "id": "H2y5WHLmqUQG",
        "outputId": "98a8532c-b41a-4cd3-a2c1-9d2e63380b3b"
      },
      "source": [
        "annual_is[0]['operatingIncome']"
      ],
      "execution_count": 31,
      "outputs": [
        {
          "output_type": "execute_result",
          "data": {
            "text/plain": [
              "{'fmt': '36.48B', 'longFmt': '36,482,000,000', 'raw': 36482000000}"
            ]
          },
          "metadata": {
            "tags": []
          },
          "execution_count": 31
        }
      ]
    },
    {
      "cell_type": "code",
      "metadata": {
        "id": "SSbdctpWqffM"
      },
      "source": [
        "annual_is_stmts = []\r\n",
        "\r\n",
        "for s in annual_is:\r\n",
        "  statement = {}\r\n",
        "  for key, val in s.items():\r\n",
        "    try:\r\n",
        "      statement[key] = val['raw']\r\n",
        "    except TypeError:\r\n",
        "      continue\r\n",
        "    except KeyError:\r\n",
        "      continue\r\n",
        "  annual_is_stmts.append(statement)"
      ],
      "execution_count": 32,
      "outputs": []
    },
    {
      "cell_type": "code",
      "metadata": {
        "colab": {
          "base_uri": "https://localhost:8080/"
        },
        "id": "9ZIV9QlhrLji",
        "outputId": "561ef959-490b-40f1-8cea-ff71f6e4f70b"
      },
      "source": [
        "annual_is_stmts[0]"
      ],
      "execution_count": 33,
      "outputs": [
        {
          "output_type": "execute_result",
          "data": {
            "text/plain": [
              "{'costOfRevenue': 71896000000,\n",
              " 'ebit': 36482000000,\n",
              " 'endDate': 1577750400,\n",
              " 'grossProfit': 89961000000,\n",
              " 'incomeBeforeTax': 39625000000,\n",
              " 'incomeTaxExpense': 5282000000,\n",
              " 'interestExpense': -100000000,\n",
              " 'netIncome': 34343000000,\n",
              " 'netIncomeApplicableToCommonShares': 34343000000,\n",
              " 'netIncomeFromContinuingOps': 34343000000,\n",
              " 'operatingIncome': 36482000000,\n",
              " 'researchDevelopment': 26018000000,\n",
              " 'sellingGeneralAdministrative': 27461000000,\n",
              " 'totalOperatingExpenses': 125375000000,\n",
              " 'totalOtherIncomeExpenseNet': 3143000000,\n",
              " 'totalRevenue': 161857000000}"
            ]
          },
          "metadata": {
            "tags": []
          },
          "execution_count": 33
        }
      ]
    }
  ]
}